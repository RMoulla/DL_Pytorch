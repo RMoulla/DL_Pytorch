{
  "nbformat": 4,
  "nbformat_minor": 0,
  "metadata": {
    "colab": {
      "provenance": [],
      "authorship_tag": "ABX9TyPRbWcTKDObiEB39TdIpMeF",
      "include_colab_link": true
    },
    "kernelspec": {
      "name": "python3",
      "display_name": "Python 3"
    },
    "language_info": {
      "name": "python"
    }
  },
  "cells": [
    {
      "cell_type": "markdown",
      "metadata": {
        "id": "view-in-github",
        "colab_type": "text"
      },
      "source": [
        "<a href=\"https://colab.research.google.com/github/RMoulla/DL_Pytorch/blob/main/Recherche_s%C3%A9mantique_Correction.ipynb\" target=\"_parent\"><img src=\"https://colab.research.google.com/assets/colab-badge.svg\" alt=\"Open In Colab\"/></a>"
      ]
    },
    {
      "cell_type": "markdown",
      "source": [
        "# Recherche sémantique sur des descriptions de produits sportifs\n",
        "\n",
        "Dans ce tutoriel, nous allons aborder l'implémentation d'une fonctionnalité de recherche sémantique sur un dataset de produits sportifs. Le dataset est structuré en deux colonnes. La première colonne contient des identifiants uniques de produits ; la seconde colonne contient les descriptions correspondantes. Celles-ci sont détaillées et couvrent une gamme variée d'équipements et de vêtements.\n",
        "\n",
        "Notre objectif est de créer un programme Python capable de traiter des requêtes de recherche basées sur la sémantique des descriptions plutôt que sur des correspondances exactes de mots-clés. Cela permet d'améliorer significativement l'expérience de recherche pour les utilisateurs en leur fournissant des résultats plus pertinents et en adéquation avec leurs besoins spécifiques.\n",
        "\n",
        "## Méthodologie\n",
        "\n",
        "La fonction de recherche sémantique se décline en deux étapes principales :\n",
        "\n",
        "* Dans un premier temps, les descriptions sont transformées en vecteurs à l'aide d'un encodeur `sentence_transformers`.\n",
        "* Quand l'utilisateur saisit une requête en langage naturel, celle-ci est encodé à l'aide du même modèle `sentence_transformers` ; elle est ensuite comparée aux vecteurs relatifs aux descriptions à l'aide de la similarité cosine. Les `top_n` descriptions les plus similaires à la requête de l'utilisateur sont renvoyées comme résultat."
      ],
      "metadata": {
        "id": "KV5gttfjd_uV"
      }
    },
    {
      "cell_type": "code",
      "execution_count": 6,
      "metadata": {
        "colab": {
          "base_uri": "https://localhost:8080/"
        },
        "id": "ueqoa0nPWcew",
        "outputId": "88ab47fe-3887-451b-cd87-637bb3accc0f"
      },
      "outputs": [
        {
          "output_type": "stream",
          "name": "stdout",
          "text": [
            "Requirement already satisfied: sentence_transformers in /usr/local/lib/python3.11/dist-packages (4.1.0)\n",
            "Requirement already satisfied: transformers<5.0.0,>=4.41.0 in /usr/local/lib/python3.11/dist-packages (from sentence_transformers) (4.53.1)\n",
            "Requirement already satisfied: tqdm in /usr/local/lib/python3.11/dist-packages (from sentence_transformers) (4.67.1)\n",
            "Requirement already satisfied: torch>=1.11.0 in /usr/local/lib/python3.11/dist-packages (from sentence_transformers) (2.6.0+cu124)\n",
            "Requirement already satisfied: scikit-learn in /usr/local/lib/python3.11/dist-packages (from sentence_transformers) (1.6.1)\n",
            "Requirement already satisfied: scipy in /usr/local/lib/python3.11/dist-packages (from sentence_transformers) (1.15.3)\n",
            "Requirement already satisfied: huggingface-hub>=0.20.0 in /usr/local/lib/python3.11/dist-packages (from sentence_transformers) (0.33.2)\n",
            "Requirement already satisfied: Pillow in /usr/local/lib/python3.11/dist-packages (from sentence_transformers) (11.2.1)\n",
            "Requirement already satisfied: typing_extensions>=4.5.0 in /usr/local/lib/python3.11/dist-packages (from sentence_transformers) (4.14.1)\n",
            "Requirement already satisfied: filelock in /usr/local/lib/python3.11/dist-packages (from huggingface-hub>=0.20.0->sentence_transformers) (3.18.0)\n",
            "Requirement already satisfied: fsspec>=2023.5.0 in /usr/local/lib/python3.11/dist-packages (from huggingface-hub>=0.20.0->sentence_transformers) (2025.3.2)\n",
            "Requirement already satisfied: packaging>=20.9 in /usr/local/lib/python3.11/dist-packages (from huggingface-hub>=0.20.0->sentence_transformers) (24.2)\n",
            "Requirement already satisfied: pyyaml>=5.1 in /usr/local/lib/python3.11/dist-packages (from huggingface-hub>=0.20.0->sentence_transformers) (6.0.2)\n",
            "Requirement already satisfied: requests in /usr/local/lib/python3.11/dist-packages (from huggingface-hub>=0.20.0->sentence_transformers) (2.32.3)\n",
            "Requirement already satisfied: hf-xet<2.0.0,>=1.1.2 in /usr/local/lib/python3.11/dist-packages (from huggingface-hub>=0.20.0->sentence_transformers) (1.1.5)\n",
            "Requirement already satisfied: networkx in /usr/local/lib/python3.11/dist-packages (from torch>=1.11.0->sentence_transformers) (3.5)\n",
            "Requirement already satisfied: jinja2 in /usr/local/lib/python3.11/dist-packages (from torch>=1.11.0->sentence_transformers) (3.1.6)\n",
            "Requirement already satisfied: nvidia-cuda-nvrtc-cu12==12.4.127 in /usr/local/lib/python3.11/dist-packages (from torch>=1.11.0->sentence_transformers) (12.4.127)\n",
            "Requirement already satisfied: nvidia-cuda-runtime-cu12==12.4.127 in /usr/local/lib/python3.11/dist-packages (from torch>=1.11.0->sentence_transformers) (12.4.127)\n",
            "Requirement already satisfied: nvidia-cuda-cupti-cu12==12.4.127 in /usr/local/lib/python3.11/dist-packages (from torch>=1.11.0->sentence_transformers) (12.4.127)\n",
            "Requirement already satisfied: nvidia-cudnn-cu12==9.1.0.70 in /usr/local/lib/python3.11/dist-packages (from torch>=1.11.0->sentence_transformers) (9.1.0.70)\n",
            "Requirement already satisfied: nvidia-cublas-cu12==12.4.5.8 in /usr/local/lib/python3.11/dist-packages (from torch>=1.11.0->sentence_transformers) (12.4.5.8)\n",
            "Requirement already satisfied: nvidia-cufft-cu12==11.2.1.3 in /usr/local/lib/python3.11/dist-packages (from torch>=1.11.0->sentence_transformers) (11.2.1.3)\n",
            "Requirement already satisfied: nvidia-curand-cu12==10.3.5.147 in /usr/local/lib/python3.11/dist-packages (from torch>=1.11.0->sentence_transformers) (10.3.5.147)\n",
            "Requirement already satisfied: nvidia-cusolver-cu12==11.6.1.9 in /usr/local/lib/python3.11/dist-packages (from torch>=1.11.0->sentence_transformers) (11.6.1.9)\n",
            "Requirement already satisfied: nvidia-cusparse-cu12==12.3.1.170 in /usr/local/lib/python3.11/dist-packages (from torch>=1.11.0->sentence_transformers) (12.3.1.170)\n",
            "Requirement already satisfied: nvidia-cusparselt-cu12==0.6.2 in /usr/local/lib/python3.11/dist-packages (from torch>=1.11.0->sentence_transformers) (0.6.2)\n",
            "Requirement already satisfied: nvidia-nccl-cu12==2.21.5 in /usr/local/lib/python3.11/dist-packages (from torch>=1.11.0->sentence_transformers) (2.21.5)\n",
            "Requirement already satisfied: nvidia-nvtx-cu12==12.4.127 in /usr/local/lib/python3.11/dist-packages (from torch>=1.11.0->sentence_transformers) (12.4.127)\n",
            "Requirement already satisfied: nvidia-nvjitlink-cu12==12.4.127 in /usr/local/lib/python3.11/dist-packages (from torch>=1.11.0->sentence_transformers) (12.4.127)\n",
            "Requirement already satisfied: triton==3.2.0 in /usr/local/lib/python3.11/dist-packages (from torch>=1.11.0->sentence_transformers) (3.2.0)\n",
            "Requirement already satisfied: sympy==1.13.1 in /usr/local/lib/python3.11/dist-packages (from torch>=1.11.0->sentence_transformers) (1.13.1)\n",
            "Requirement already satisfied: mpmath<1.4,>=1.1.0 in /usr/local/lib/python3.11/dist-packages (from sympy==1.13.1->torch>=1.11.0->sentence_transformers) (1.3.0)\n",
            "Requirement already satisfied: numpy>=1.17 in /usr/local/lib/python3.11/dist-packages (from transformers<5.0.0,>=4.41.0->sentence_transformers) (2.0.2)\n",
            "Requirement already satisfied: regex!=2019.12.17 in /usr/local/lib/python3.11/dist-packages (from transformers<5.0.0,>=4.41.0->sentence_transformers) (2024.11.6)\n",
            "Requirement already satisfied: tokenizers<0.22,>=0.21 in /usr/local/lib/python3.11/dist-packages (from transformers<5.0.0,>=4.41.0->sentence_transformers) (0.21.2)\n",
            "Requirement already satisfied: safetensors>=0.4.3 in /usr/local/lib/python3.11/dist-packages (from transformers<5.0.0,>=4.41.0->sentence_transformers) (0.5.3)\n",
            "Requirement already satisfied: joblib>=1.2.0 in /usr/local/lib/python3.11/dist-packages (from scikit-learn->sentence_transformers) (1.5.1)\n",
            "Requirement already satisfied: threadpoolctl>=3.1.0 in /usr/local/lib/python3.11/dist-packages (from scikit-learn->sentence_transformers) (3.6.0)\n",
            "Requirement already satisfied: MarkupSafe>=2.0 in /usr/local/lib/python3.11/dist-packages (from jinja2->torch>=1.11.0->sentence_transformers) (3.0.2)\n",
            "Requirement already satisfied: charset-normalizer<4,>=2 in /usr/local/lib/python3.11/dist-packages (from requests->huggingface-hub>=0.20.0->sentence_transformers) (3.4.2)\n",
            "Requirement already satisfied: idna<4,>=2.5 in /usr/local/lib/python3.11/dist-packages (from requests->huggingface-hub>=0.20.0->sentence_transformers) (3.10)\n",
            "Requirement already satisfied: urllib3<3,>=1.21.1 in /usr/local/lib/python3.11/dist-packages (from requests->huggingface-hub>=0.20.0->sentence_transformers) (2.4.0)\n",
            "Requirement already satisfied: certifi>=2017.4.17 in /usr/local/lib/python3.11/dist-packages (from requests->huggingface-hub>=0.20.0->sentence_transformers) (2025.6.15)\n"
          ]
        }
      ],
      "source": [
        "!pip install sentence_transformers"
      ]
    },
    {
      "cell_type": "code",
      "source": [
        "from sentence_transformers import SentenceTransformer\n",
        "from sklearn.metrics.pairwise import cosine_similarity\n",
        "import pandas as pd\n",
        "\n",
        "# Charger le dataset\n",
        "file_path = 'sample-data.csv'\n",
        "data = pd.read_csv(file_path)\n",
        "\n",
        "# Initialiser le modèle sentence transformer\n",
        "model = SentenceTransformer('all-MiniLM-L6-v2')\n",
        "\n",
        "# Générer des embeddings pour les descriptions\n",
        "descriptions = data['description'].tolist()\n",
        "description_embeddings = model.encode(descriptions)\n",
        "\n",
        "def search_semantic(query, top_n=5):\n",
        "    # Encoder la requête pour obtenir l'embedding\n",
        "    query_embedding = model.encode([query])[0]\n",
        "\n",
        "    # Calculer la similarité cosinus entre la requête et les descriptions du dataset\n",
        "    similarities = cosine_similarity([query_embedding], description_embeddings)[0]\n",
        "\n",
        "    # Obtenir les indices des descriptions les plus similaires\n",
        "    top_indices = similarities.argsort()[-top_n:][::-1]\n",
        "\n",
        "    # Retourner les descriptions les plus similaires\n",
        "    return data.iloc[top_indices]"
      ],
      "metadata": {
        "id": "vNYtnJH7W8ZB"
      },
      "execution_count": 7,
      "outputs": []
    },
    {
      "cell_type": "code",
      "source": [
        "# Exemple d'utilisation\n",
        "query = \"Cotton sweatshirt for men\"\n",
        "results = search_semantic(query)\n",
        "for desc in results['description']:\n",
        "   print(desc, '')"
      ],
      "metadata": {
        "colab": {
          "base_uri": "https://localhost:8080/"
        },
        "id": "L487_HZhW9C1",
        "outputId": "3161da27-fb33-40ea-968d-2b4dfa22f909"
      },
      "execution_count": 8,
      "outputs": [
        {
          "output_type": "stream",
          "name": "stdout",
          "text": [
            "Mandeville hoody - A going-places hoody. The Mandeville's soft, waffle knit is a supple blend of 40% organic cotton, 35% Tencel and 20% all-recycled polyester with 5% spandex for stretch. The rib-knit trimmed hood (with drawcord) opens to a full zip; the extra-wide rib-knit cuffs have thumb loops for attitude; the hem, also in a rib knit, hits at the lower hip. With handwarmer pockets. Recyclable through the Common Threads Recycling Program.<br><br><b>Details:</b><ul> <li>Supersoft organic cotton/Tencel blend waffle-knit hoody with cotton twill drawcord in hood</li> <li>Rib knit trim on hood and hem</li> <li>Thumb loop in cuffs for warmth; front pockets</li> <li>Lower hip length</li></ul><br><br><b>Fabric: </b>6.3-oz 40% organic cotton/35% Tencel/20% all-recycled polyester/5% spandex. Recyclable through the Common Threads Recycling Program<br><br><b>Weight: </b>(323 g 11.2 oz)<br><br>Made in Thailand. \n",
            "Hooded monk sweatshirt - The sacred garment of predawn surf checks, sunset barbecues and skateboard beer runs, our ultimate sweatshirt hoody sports graphics from out T-Shirt line. Made of 75% organic cotton and 25% polyester fleece for softness and quick after-surf dry time. With extended rib-knit cuffs and waist. Recyclable through the Common Threads Recycling Program.<br><br><b>Details:</b><ul> <li>Soft organic cotton/polyester fabric</li> <li>Deep 3-panel hood with drawcord</li> <li>Pouch pocket and extended rib-knit cuffs and waist</li></ul><br><br><b>Fabric: </b>10.3-oz 75% organic cotton/25% polyester fleece. Recyclable through the Common Threads Recycling Program<br><br><b>Weight: </b>(626 g 21.7 oz)<br><br>Made in India. \n",
            "Elias fz sweatshirt - Clean as a Wingate splitter. Our Elias is made from a welcoming blend of 95% organic cotton and 5% spandex in an athletic, climbing cut. The pockets rise above your harness and the stand-up neck adds a wind barrier to warm up an early season cragging session. The full-zip front makes it easy to take on and off between laps. Recyclable through the Common Threads Recycling Program.<br><br><b>Details:</b><ul> <li>Ultrasoft 95% organic cotton fleece has 5% spandex for stretch</li> <li>Full-zip with handwarmer pockets</li></ul><br><br><b>Fabric: </b>7.6-oz 95% organic cotton fleece/5% spandex. Recyclable through the Common Threads Recycling Program<br><br><b>Weight: </b>447 g (15.8 oz)<br><br>Made in Turkey. \n",
            "Elias sweatshirt - The dirtbagger's complete wardrobe - wear it bouldering, working the slack line, and setting up a bivy out of view of the ranger's probing eyes. It has a hospitable mix of 95% organic cotton with 5% spandex for suppleness on dynamic moves. When clouds grow ominous, throw the 4-panel hood up to seal in your heat; keep your fingers warm and ready for crimping with the roomy kangaroo pouch pocket. Offset shoulder seams and a clean silhouette stay smooth under your packstraps and harness. Recyclable through the Common Threads Recycling Program.<br><br><b>Details:</b><ul> <li>Ultrasoft organic cotton fleece has 5% spandex for stretch</li> <li>Pullover hoody with kangaroo pouch pocket</li> <li>Boulder screen print on center chest by Jenny Uehisa</li></ul><br><br><b>Fabric: </b>7.6-oz 95% organic cotton fleece/5% spandex. Recyclable through the Common Threads Recycling Program<br><br><b>Weight: </b>(426 g 14.8 oz)<br><br>Made in Turkey. \n",
            "Drift shirt - All epic tales of the West begin with a drifter - many were women in search of big skies and a freer life. The Drift Shirt's feminine, high-plains styling includes a delicate collar and a front placket and patch pockets with snaps. The shirt's all-recycled polyester/organic cotton (65%/35%) open-weave fabric is durable and stays cool under pressure. Contouring front and back princess seams; slits at cuffs and hem for venting. Recyclable through the Common Threads Recycling Program.<br><br><b>Details:</b><ul> <li>\"Feminine, open-weave fabric construction\"</li> <li>Durable organic cotton/all-recycled polyester blend</li> <li>\"Delicate collar, front placket with snaps\"</li> <li>Princess seaming front and back for contoured fit</li> <li>Front patch pockets with snap closures</li> <li>Slits at cuffs and hem for venting</li></ul><br><br><b>Fabric: </b>2.8-oz 65% all-recycled polyester/35% organic cotton. Recyclable through the Common Threads Recycling Program<br><br><b>Weight: </b>150 g (5.3 oz)<br><br>Made in Thailand. \n"
          ]
        }
      ]
    },
    {
      "cell_type": "code",
      "source": [
        "from sentence_transformers import SentenceTransformer\n",
        "model = SentenceTransformer('all-MiniLM-L6-v2')"
      ],
      "metadata": {
        "id": "YKZokB7JwfX-"
      },
      "execution_count": 10,
      "outputs": []
    },
    {
      "cell_type": "code",
      "source": [
        "model.encode('This is an example')"
      ],
      "metadata": {
        "colab": {
          "base_uri": "https://localhost:8080/"
        },
        "id": "_NWPZY7SdrLl",
        "outputId": "b8973ab9-ca92-4942-9334-230e89d2660e"
      },
      "execution_count": 11,
      "outputs": [
        {
          "output_type": "execute_result",
          "data": {
            "text/plain": [
              "array([ 3.72843742e-02,  5.32392925e-03, -1.77613329e-02,  5.10686412e-02,\n",
              "       -7.63105974e-03, -1.85059514e-02, -3.41195390e-02,  8.20956752e-03,\n",
              "        1.98102593e-02,  1.21869622e-02, -7.79420463e-03,  3.01946681e-02,\n",
              "        6.86234981e-02,  9.47144721e-03, -1.01077221e-02, -7.45133497e-03,\n",
              "        8.69537964e-02, -1.41349211e-02, -9.73380134e-02,  2.06216215e-03,\n",
              "        5.36101535e-02, -1.89442886e-04, -1.65308565e-02,  6.98766485e-03,\n",
              "       -4.70505003e-03, -1.14503920e-01, -4.45460081e-02,  9.52180102e-02,\n",
              "        1.15448616e-01, -8.47659633e-02, -2.53599845e-02, -2.33251452e-02,\n",
              "        7.16680288e-02, -4.19131247e-03,  1.97647158e-02,  3.68644558e-02,\n",
              "       -3.05928849e-02,  1.28541380e-01, -5.08088358e-02,  2.41368506e-02,\n",
              "       -2.77079809e-02, -2.72773951e-02, -5.93982732e-05, -1.78789254e-02,\n",
              "        1.37432469e-02, -6.24570288e-02, -1.41035544e-03,  5.48888464e-03,\n",
              "        9.82000679e-03, -6.11506552e-02, -8.45575705e-02, -1.92312896e-02,\n",
              "       -1.00558393e-01, -1.21155363e-02,  3.79289426e-02,  1.84348356e-02,\n",
              "        4.74520028e-03,  6.22930788e-02,  2.44550817e-02,  1.64266191e-02,\n",
              "       -4.91083646e-03, -2.17887852e-02, -7.85270557e-02, -1.82738863e-02,\n",
              "        6.96340203e-02,  2.99468320e-02,  9.73953214e-03,  7.89131895e-02,\n",
              "       -7.06077367e-02,  2.65281573e-02,  1.35125704e-02,  1.89454760e-02,\n",
              "       -2.85561685e-03,  3.55818048e-02, -1.11427829e-02,  3.71745266e-02,\n",
              "        1.54302502e-03, -3.39690633e-02,  2.68179532e-02,  7.74168819e-02,\n",
              "       -1.32864699e-01, -3.57623920e-02,  2.33476348e-02, -4.43614461e-03,\n",
              "        5.30524850e-02,  3.21891196e-02,  2.19716970e-02, -6.19911551e-02,\n",
              "        7.53266662e-02,  1.76679138e-02, -7.27269650e-02, -1.88534446e-02,\n",
              "        1.26927793e-02, -5.30219637e-02,  1.48601457e-03, -2.26723403e-02,\n",
              "        1.84302181e-02, -6.81507066e-02, -1.02867059e-01,  1.34940639e-01,\n",
              "       -5.66178821e-02,  5.71909249e-02,  2.32962500e-02,  2.73841415e-02,\n",
              "        2.66257636e-02, -1.04873843e-01, -2.67489953e-03, -4.46190536e-02,\n",
              "        4.48519737e-02, -3.66621427e-02, -1.14678733e-01, -2.77676596e-03,\n",
              "       -2.91768499e-02,  5.23767471e-02, -4.71539656e-03, -1.04426779e-01,\n",
              "       -8.36893097e-02,  1.84440017e-02, -1.67942159e-02,  7.13805407e-02,\n",
              "        2.60785744e-02,  1.75841730e-02, -1.01611689e-01, -2.45416984e-02,\n",
              "       -1.00516351e-02, -8.97951331e-03, -8.56323540e-03, -5.52125399e-33,\n",
              "        4.69953902e-02, -9.05006900e-02, -3.31784338e-02,  1.66781154e-02,\n",
              "        7.32813627e-02, -8.87917578e-02, -3.17333378e-02, -1.12770665e-02,\n",
              "        2.61238143e-02, -6.74083307e-02,  2.92623285e-02,  3.35089341e-02,\n",
              "        5.19127548e-02,  7.75175821e-03,  4.10458744e-02,  5.44679910e-02,\n",
              "       -4.55736816e-02,  2.08588615e-01, -2.75476631e-02,  1.53202033e-02,\n",
              "       -4.67314720e-02,  9.73126851e-03,  6.03100518e-04,  1.06701851e-02,\n",
              "        1.97085757e-02,  1.65928937e-02,  4.08160575e-02,  2.10384019e-02,\n",
              "        5.89904562e-02,  5.45390248e-02,  1.29781812e-02,  3.69540751e-02,\n",
              "       -8.05548579e-02, -1.51570467e-03,  3.32924016e-02,  1.21912383e-03,\n",
              "        3.23148146e-02, -2.14487053e-02,  6.80588419e-03,  3.54652386e-03,\n",
              "       -2.34868657e-03, -6.25913367e-02, -1.65400859e-02, -4.27481085e-02,\n",
              "        4.58558649e-02, -2.99066380e-02, -1.89974122e-02, -3.74576077e-03,\n",
              "       -3.26624252e-02,  1.52894668e-03,  2.95939371e-02,  1.46935815e-02,\n",
              "       -3.53947356e-02, -2.14654747e-02, -9.18239914e-03,  1.78356189e-02,\n",
              "        2.97793597e-02,  2.60594524e-02, -2.88960487e-02,  5.43375779e-03,\n",
              "       -4.24381159e-02,  5.88753968e-02, -5.91131151e-02,  3.52207385e-02,\n",
              "       -9.00058672e-02,  4.17116582e-02, -3.17857345e-03, -4.23635729e-02,\n",
              "       -2.86990795e-02,  3.17141265e-02,  5.32702804e-02,  2.36575548e-02,\n",
              "       -2.63936110e-02,  7.02929199e-02, -3.98950502e-02, -4.97785360e-02,\n",
              "       -3.23662050e-02, -1.41091691e-02, -5.98872155e-02,  4.04601768e-02,\n",
              "       -2.22377032e-02, -1.34623408e-01,  2.96441559e-02,  3.94229628e-02,\n",
              "       -1.63551327e-02, -2.46635056e-04,  6.79496899e-02, -5.77381738e-02,\n",
              "       -5.70248477e-02, -8.06597844e-02, -1.09064370e-01,  1.37229385e-02,\n",
              "        6.09270930e-02, -3.32688466e-02,  1.68025922e-02,  3.51231137e-33,\n",
              "       -6.20502867e-02,  5.26315570e-02, -1.10367723e-01,  8.18675384e-02,\n",
              "        1.01192355e-01, -9.81533201e-04,  1.36103392e-01, -1.21449493e-02,\n",
              "        1.54870050e-03,  1.02980323e-01, -1.01976164e-01,  4.62410003e-02,\n",
              "        3.72004434e-02,  3.89251579e-03,  4.89486940e-02, -1.63714122e-02,\n",
              "        8.66127536e-02,  1.32558437e-03,  1.51843391e-02,  7.87856802e-03,\n",
              "       -4.82377186e-02,  8.36369842e-02,  1.84662838e-03,  4.97101657e-02,\n",
              "       -6.14649653e-02,  6.04381859e-02, -3.64541747e-02, -1.39959073e-02,\n",
              "       -6.47636279e-02, -1.29971467e-02, -3.22450278e-03, -4.24325876e-02,\n",
              "       -5.00554107e-02, -3.15174349e-02, -6.39998764e-02,  7.13785291e-02,\n",
              "        3.75817232e-02,  8.66745934e-02, -6.63213506e-02,  4.08051535e-03,\n",
              "        1.72862466e-02, -1.10833114e-02,  1.25691714e-02,  9.90972966e-02,\n",
              "       -2.19197962e-02, -4.37270626e-02, -3.53577621e-02, -3.98464911e-02,\n",
              "        2.09858194e-02,  7.74130598e-02, -1.05358079e-01,  3.87309492e-02,\n",
              "       -3.88545275e-04, -8.86180717e-03, -1.07381083e-01, -2.85026506e-02,\n",
              "       -4.53240238e-02, -2.16082465e-02,  1.51045993e-02, -1.26590785e-02,\n",
              "       -8.28762725e-03, -3.46639119e-02,  1.05787003e-02,  6.96023628e-02,\n",
              "        8.06250721e-02, -5.97924786e-03, -9.03688297e-02,  7.57252332e-03,\n",
              "       -1.72315016e-02,  5.43808565e-02,  1.11757897e-01,  8.34590942e-02,\n",
              "       -1.59099951e-01, -6.61496744e-02,  7.60817481e-03, -7.59681538e-02,\n",
              "       -3.92334573e-02,  4.22925455e-03, -6.74755424e-02, -7.21512958e-02,\n",
              "        1.31769432e-02, -8.53027776e-03,  4.08658199e-02,  9.87221580e-03,\n",
              "        3.32741141e-02,  1.26043996e-02, -5.55336587e-02, -4.82643209e-02,\n",
              "       -3.69343758e-02, -1.27996607e-02,  1.15481559e-02, -2.17734557e-02,\n",
              "        4.36902195e-02,  4.85787019e-02, -2.62954626e-02, -1.78977260e-08,\n",
              "       -4.05814685e-02,  2.72439532e-02,  1.21612929e-01, -1.77164823e-02,\n",
              "        8.25928077e-02,  2.65095960e-02,  6.49512708e-02, -4.03489126e-03,\n",
              "       -3.09778154e-02, -4.19072621e-02, -6.57442666e-04,  3.24431770e-02,\n",
              "       -4.12635459e-03,  1.04042236e-02,  5.32031693e-02,  3.82695310e-02,\n",
              "        4.20248508e-02, -2.79141851e-02, -2.98414044e-02,  6.23350255e-02,\n",
              "       -1.35107145e-01,  6.06305450e-02,  1.65730808e-02,  1.91128589e-02,\n",
              "        2.66993940e-02,  2.74402671e-03, -3.45821716e-02,  8.77163261e-02,\n",
              "        5.20690456e-02,  2.47732922e-02,  8.97941925e-03,  1.23843037e-01,\n",
              "        5.02923392e-02, -2.53177509e-02,  5.48878685e-02,  5.95534481e-02,\n",
              "        9.38608591e-03, -3.11866514e-02,  4.28463705e-02, -3.39285582e-02,\n",
              "       -4.04160982e-03, -5.62905706e-03, -1.36213899e-02,  9.50271115e-02,\n",
              "        3.67693007e-02,  5.96759357e-02, -1.15822991e-02, -2.01703161e-02,\n",
              "       -5.36435805e-02,  1.11604799e-02, -3.06583308e-02,  7.68692419e-02,\n",
              "        1.27464766e-03, -2.10449398e-02,  4.51238342e-02,  1.46124503e-02,\n",
              "        3.58087569e-02,  1.50487116e-02, -2.94861291e-02,  1.51233487e-02,\n",
              "        6.59103459e-03,  3.02766375e-02,  6.75059110e-02,  3.30081582e-02],\n",
              "      dtype=float32)"
            ]
          },
          "metadata": {},
          "execution_count": 11
        }
      ]
    }
  ]
}