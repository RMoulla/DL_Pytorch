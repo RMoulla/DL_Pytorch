{
  "nbformat": 4,
  "nbformat_minor": 0,
  "metadata": {
    "colab": {
      "provenance": [],
      "gpuType": "T4",
      "authorship_tag": "ABX9TyOtR1BnEoF3TxKlGBnubYaN",
      "include_colab_link": true
    },
    "kernelspec": {
      "name": "python3",
      "display_name": "Python 3"
    },
    "language_info": {
      "name": "python"
    },
    "accelerator": "GPU"
  },
  "cells": [
    {
      "cell_type": "markdown",
      "metadata": {
        "id": "view-in-github",
        "colab_type": "text"
      },
      "source": [
        "<a href=\"https://colab.research.google.com/github/RMoulla/DL_Pytorch/blob/main/TP_CNN_CIFAR.ipynb\" target=\"_parent\"><img src=\"https://colab.research.google.com/assets/colab-badge.svg\" alt=\"Open In Colab\"/></a>"
      ]
    },
    {
      "cell_type": "markdown",
      "source": [
        "# TP : CNN et ResNets sur le dataset CIFAR-10\n",
        "\n",
        "## Objectif général\n",
        "\n",
        "Ce TP a pour but de comprendre concrètement l’intérêt des réseaux résiduels (ResNets) en les comparant à des CNN classiques sur une tâche de classification d’images. Nous utiliserons le dataset **CIFAR-10**, composé de 60 000 images en couleur (32x32) réparties en 10 classes.\n",
        "\n",
        "Nous allons ainsi :\n",
        "- Implémenter un CNN simple pour classer les images du dataset CIFAR-10.\n",
        "- Adapter un ResNet-18 pour le même dataset.\n",
        "- Entraîner les deux modèles et comparer leurs performances (accuracy, perte).\n",
        "- Visualiser les courbes d'apprentissage.\n",
        "- Analyser les résultats en termes d’overfitting et de stabilité de l'entraînement.\n",
        "\n"
      ],
      "metadata": {
        "id": "u7S_KdkGg-g9"
      }
    },
    {
      "cell_type": "markdown",
      "source": [
        "## Partie I : Entraînement d'un CNN simple\n",
        "\n",
        "Dans cette première partie, nous allons construire un modèle CNN simple et l’entraîner sur le dataset CIFAR-10. Ce modèle nous servira de référence pour évaluer ensuite l’intérêt des réseaux résiduels."
      ],
      "metadata": {
        "id": "PyQb7y5ShmME"
      }
    },
    {
      "cell_type": "code",
      "execution_count": 1,
      "metadata": {
        "id": "vEyVwmwYdYl8"
      },
      "outputs": [],
      "source": [
        "import torch\n",
        "import torch.nn as nn\n",
        "import torch.optim as optim\n",
        "import torchvision\n",
        "import torchvision.transforms as transforms\n",
        "import matplotlib.pyplot as plt"
      ]
    },
    {
      "cell_type": "markdown",
      "source": [
        "On charge le dataset CIFAR-10 et prépare les données pour l'entraînement et le test.  \n",
        "On applique une transformation standard : conversion en tenseur puis normalisation des trois canaux couleur autour de 0.  \n",
        "Les `DataLoader` permettent d’itérer par batch sur les images. Le shuffle est activé pour l'entraînement.  \n",
        "La variable `classes` contient la liste des 10 catégories du dataset.\n"
      ],
      "metadata": {
        "id": "wdiN_l2RiyuF"
      }
    },
    {
      "cell_type": "code",
      "source": [
        "transform = transforms.Compose([\n",
        "    transforms.ToTensor(),\n",
        "    transforms.Normalize((0.5, 0.5, 0.5), (0.5, 0.5, 0.5))\n",
        "])\n",
        "\n",
        "trainset = torchvision.datasets.CIFAR10(root='./data', train=True, download=True, transform=transform)\n",
        "trainloader = torch.utils.data.DataLoader(trainset, batch_size=64, shuffle=True)\n",
        "\n",
        "testset = torchvision.datasets.CIFAR10(root='./data', train=False, download=True, transform=transform)\n",
        "testloader = torch.utils.data.DataLoader(testset, batch_size=64, shuffle=False)\n",
        "\n",
        "classes = trainset.classes"
      ],
      "metadata": {
        "colab": {
          "base_uri": "https://localhost:8080/"
        },
        "id": "UmvlAeUxdlhL",
        "outputId": "6bbea90e-5047-4fdf-b15a-a6a162322d37"
      },
      "execution_count": 2,
      "outputs": [
        {
          "output_type": "stream",
          "name": "stderr",
          "text": [
            "100%|██████████| 170M/170M [01:26<00:00, 1.97MB/s]\n"
          ]
        }
      ]
    },
    {
      "cell_type": "markdown",
      "source": [
        "On définit un CNN simple structuré en deux parties : des couches convolutionnelles (`conv_layers`) et des couches entièrement connectées (`fc_layers`).\n",
        "\n",
        "- Les **convolutions** extraient des motifs visuels de plus en plus complexes. Le nombre de canaux augmente progressivement (32 → 64 → 128) car plus on avance dans le réseau, plus on souhaite capturer une grande diversité de caractéristiques (textures, formes, objets...).\n",
        "\n",
        "- Chaque bloc contient une convolution 3×3 avec padding=1 (pour conserver la taille), suivie d’une activation ReLU, puis d’un **max pooling** 2×2 qui divise par 2 la taille spatiale (hauteur et largeur).  \n",
        "  Ainsi, les dimensions de l’image évoluent comme suit :\n",
        "  - 32×32 (entrée) → 16×16 → 8×8 → 4×4\n",
        "\n",
        "- Après les couches convolutionnelles, on applique `Flatten()` pour transformer le tenseur 3D (batch_size, 128, 4, 4) en vecteur 1D de taille 128×4×4 = 2048.\n",
        "\n",
        "- Les **couches fully-connected** réalisent la classification finale :\n",
        "  - Une première couche réduit la représentation à 256 dimensions (suivie d'une ReLU).\n",
        "  - La dernière couche projette ce vecteur sur les 10 classes du dataset CIFAR-10.\n",
        "\n",
        "Ce type d’architecture est classique pour les tâches de classification d’images, mais reste limité en profondeur. Il servira ici de point de comparaison avec le ResNet.\n"
      ],
      "metadata": {
        "id": "-vHMLcoTjKIQ"
      }
    },
    {
      "cell_type": "code",
      "source": [
        "class SimpleCNN(nn.Module):\n",
        "    def __init__(self):\n",
        "        super(SimpleCNN, self).__init__()\n",
        "        self.conv_layers = nn.Sequential(\n",
        "            nn.Conv2d(3, 32, kernel_size=3, padding=1),\n",
        "            nn.ReLU(),\n",
        "            nn.MaxPool2d(2, 2),\n",
        "\n",
        "            nn.Conv2d(32, 64, kernel_size=3, padding=1),\n",
        "            nn.ReLU(),\n",
        "            nn.MaxPool2d(2, 2),\n",
        "\n",
        "            nn.Conv2d(64, 128, kernel_size=3, padding=1),\n",
        "            nn.ReLU(),\n",
        "            nn.MaxPool2d(2, 2),\n",
        "        )\n",
        "        self.fc_layers = nn.Sequential(\n",
        "            nn.Flatten(),\n",
        "            nn.Linear(128 * 4 * 4, 256),\n",
        "            nn.ReLU(),\n",
        "            nn.Linear(256, 10)\n",
        "        )\n",
        "\n",
        "    def forward(self, x):\n",
        "        x = self.conv_layers(x)\n",
        "        x = self.fc_layers(x)\n",
        "        return x"
      ],
      "metadata": {
        "id": "msGVPxOcdqW_"
      },
      "execution_count": 3,
      "outputs": []
    },
    {
      "cell_type": "code",
      "source": [
        "device = torch.device('cuda' if torch.cuda.is_available() else 'cpu')\n",
        "model = SimpleCNN().to(device)\n",
        "criterion = nn.CrossEntropyLoss()\n",
        "optimizer = optim.Adam(model.parameters(), lr=0.001)\n",
        "\n",
        "def train(model, loader, optimizer, criterion):\n",
        "    model.train()\n",
        "    running_loss = 0.0\n",
        "    for inputs, targets in loader:\n",
        "        inputs, targets = inputs.to(device), targets.to(device)\n",
        "\n",
        "        optimizer.zero_grad()\n",
        "        outputs = model(inputs)\n",
        "        loss = criterion(outputs, targets)\n",
        "        loss.backward()\n",
        "        optimizer.step()\n",
        "\n",
        "        running_loss += loss.item()\n",
        "    return running_loss / len(loader)\n",
        "\n",
        "def evaluate(model, loader):\n",
        "    model.eval()\n",
        "    correct = 0\n",
        "    total = 0\n",
        "    with torch.no_grad():\n",
        "        for inputs, targets in loader:\n",
        "            inputs, targets = inputs.to(device), targets.to(device)\n",
        "            outputs = model(inputs)\n",
        "            _, predicted = torch.max(outputs, 1)\n",
        "            total += targets.size(0)\n",
        "            correct += (predicted == targets).sum().item()\n",
        "    return correct / total\n",
        "\n",
        "train_acc_list = []\n",
        "test_acc_list = []\n",
        "\n",
        "for epoch in range(10):\n",
        "    loss = train(model, trainloader, optimizer, criterion)\n",
        "    train_acc = evaluate(model, trainloader)\n",
        "    test_acc = evaluate(model, testloader)\n",
        "\n",
        "    train_acc_list.append(train_acc)\n",
        "    test_acc_list.append(test_acc)\n",
        "\n",
        "    print(f\"Epoch {epoch+1}: Loss = {loss:.4f} | Train Acc = {train_acc:.4f} | Test Acc = {test_acc:.4f}\")\n"
      ],
      "metadata": {
        "colab": {
          "base_uri": "https://localhost:8080/"
        },
        "id": "gKSoz75edtYm",
        "outputId": "8900bdbb-3c26-4a10-a3be-aba856dce416"
      },
      "execution_count": 4,
      "outputs": [
        {
          "output_type": "stream",
          "name": "stdout",
          "text": [
            "Epoch 1: Loss = 1.3660 | Train Acc = 0.6392 | Test Acc = 0.6212\n",
            "Epoch 2: Loss = 0.9233 | Train Acc = 0.7400 | Test Acc = 0.7027\n",
            "Epoch 3: Loss = 0.7408 | Train Acc = 0.7782 | Test Acc = 0.7291\n",
            "Epoch 4: Loss = 0.6157 | Train Acc = 0.8209 | Test Acc = 0.7433\n",
            "Epoch 5: Loss = 0.5138 | Train Acc = 0.8599 | Test Acc = 0.7579\n",
            "Epoch 6: Loss = 0.4264 | Train Acc = 0.8939 | Test Acc = 0.7638\n",
            "Epoch 7: Loss = 0.3482 | Train Acc = 0.9163 | Test Acc = 0.7689\n",
            "Epoch 8: Loss = 0.2742 | Train Acc = 0.9183 | Test Acc = 0.7525\n",
            "Epoch 9: Loss = 0.2130 | Train Acc = 0.9456 | Test Acc = 0.7563\n",
            "Epoch 10: Loss = 0.1700 | Train Acc = 0.9565 | Test Acc = 0.7483\n"
          ]
        }
      ]
    },
    {
      "cell_type": "markdown",
      "source": [
        "Entraînement de notre modèle CNN sur 10 époques.\n",
        "\n",
        "- On commence par choisir le bon device (`cuda` si disponible), puis on instancie le modèle, la fonction de perte (`CrossEntropyLoss` pour la classification multiclasse) et l’optimiseur (`Adam` avec un taux d’apprentissage de 0.001).\n",
        "\n",
        "- La fonction `train()` réalise une passe complète sur l'ensemble d'entraînement :\n",
        "  - Le modèle est mis en mode entraînement (`model.train()`).\n",
        "  - Pour chaque batch, on applique une passe avant, on calcule la perte, puis on rétro-propage et on met à jour les poids.\n",
        "  - La fonction retourne la perte moyenne sur l’ensemble des batches.\n",
        "\n",
        "- La fonction `evaluate()` évalue le modèle sur un ensemble (train ou test) :\n",
        "  - Le modèle est mis en mode évaluation (`model.eval()`).\n",
        "  - On désactive la mise à jour des gradients (`torch.no_grad()`).\n",
        "  - On calcule le taux de bonnes prédictions (accuracy).\n",
        "\n",
        "- Une boucle d’entraînement de 10 époques :\n",
        "  - À chaque epoch, on entraîne le modèle puis on évalue sa performance sur les ensembles d'entraînement et de test.\n",
        "  - Les précisions sont enregistrées dans deux listes pour être visualisées ensuite.\n",
        "  - Un résumé est affiché à chaque epoch : perte moyenne, accuracy sur train et test.\n"
      ],
      "metadata": {
        "id": "OAM_9dNEjf9j"
      }
    },
    {
      "cell_type": "markdown",
      "source": [
        "## Partie II : Entraînement d’un modèle ResNet-18\n",
        "\n",
        "Dans cette seconde partie, nous allons utiliser un modèle ResNet-18 pour comparer ses performances à celles du CNN simple défini précédemment. Nous verrons comment adapter cette architecture à CIFAR-10, l’entraîner, puis évaluer sa capacité de généralisation.\n",
        "\n",
        "### 1. Présentation de ResNet-18\n",
        "\n",
        "ResNet-18 est un réseau profond à base de **blocs résiduels**. Contrairement aux CNN classiques, chaque bloc apprend une fonction \\( F(x) \\) et la combine à son entrée via une addition : \\( y = F(x) + x \\).  \n",
        "Cette architecture facilite l’optimisation, améliore la propagation du gradient et permet d’entraîner des réseaux plus profonds sans perte de performance.\n",
        "\n",
        "Nous allons utiliser une version adaptée à CIFAR-10 :\n",
        "- Moins agressive sur les premières couches (images plus petites que celles d’ImageNet).\n",
        "- Couche finale modifiée pour produire 10 classes."
      ],
      "metadata": {
        "id": "Zxb2u7hHjqDY"
      }
    },
    {
      "cell_type": "markdown",
      "source": [
        "On définit un modèle `ResNet18CIFAR10`, dérivée de `nn.Module`, qui adapte l’architecture standard ResNet-18 aux images de petite taille (32×32) du dataset CIFAR-10.\n",
        "\n",
        "- Le modèle de base est importé depuis `torchvision.models.resnet18`, sans poids pré-entraînés (`weights=None`).\n",
        "- La dernière couche fully-connected (`fc`) est remplacée par une couche linéaire avec 10 sorties, correspondant aux classes de CIFAR-10.\n",
        "- La première couche convolutionnelle est modifiée :\n",
        "  - On remplace la convolution initiale 7×7 (trop large pour des images 32×32) par une convolution 3×3 avec stride 1 et padding 1.\n",
        "- Le `maxpool` qui suit habituellement cette première convolution est supprimé (`nn.Identity()`), car il réduit trop rapidement la résolution des images à cette échelle.\n",
        "\n",
        "Cette version modifiée conserve la structure des blocs résiduels tout en étant mieux adaptée à un dataset à faible résolution.\n"
      ],
      "metadata": {
        "id": "vn1Ey-BNkWXw"
      }
    },
    {
      "cell_type": "code",
      "source": [
        "from torchvision.models import resnet18"
      ],
      "metadata": {
        "id": "s4Ve62-me0JX"
      },
      "execution_count": 5,
      "outputs": []
    },
    {
      "cell_type": "code",
      "source": [
        "class ResNet18CIFAR10(nn.Module):\n",
        "    def __init__(self):\n",
        "        super(ResNet18CIFAR10, self).__init__()\n",
        "        self.model = resnet18(weights=None)\n",
        "        self.model.fc = nn.Linear(self.model.fc.in_features, 10)\n",
        "\n",
        "        # Adapter la première convolution (ImageNet = 224x224, CIFAR10 = 32x32)\n",
        "        self.model.conv1 = nn.Conv2d(3, 64, kernel_size=3, stride=1, padding=1, bias=False)\n",
        "        self.model.maxpool = nn.Identity()  # on supprime le maxpool trop destructif à cette échelle\n",
        "\n",
        "    def forward(self, x):\n",
        "        return self.model(x)"
      ],
      "metadata": {
        "id": "UgwWcn8AetlJ"
      },
      "execution_count": 6,
      "outputs": []
    },
    {
      "cell_type": "markdown",
      "source": [
        "Préparation de l’entraînement du modèle ResNet-18 :\n",
        "\n",
        "- `device` sélectionne automatiquement un GPU s’il est disponible, sinon la CPU.\n",
        "- `resnet_model = ResNet18CIFAR10().to(device)` instancie le modèle adapté à CIFAR-10 et l’envoie sur le bon device.\n",
        "- `criterion = nn.CrossEntropyLoss()` définit la fonction de perte, adaptée à une tâche de classification multiclasse.\n",
        "- `optimizer = optim.Adam(...)` crée l’optimiseur Adam, avec un taux d’apprentissage de 0.001. Il mettra à jour l’ensemble des paramètres du modèle au fil de l'entraînement.\n"
      ],
      "metadata": {
        "id": "ccBMT0BvkePI"
      }
    },
    {
      "cell_type": "code",
      "source": [
        "device = torch.device('cuda' if torch.cuda.is_available() else 'cpu')\n",
        "resnet_model = ResNet18CIFAR10().to(device)\n",
        "criterion = nn.CrossEntropyLoss()\n",
        "optimizer = optim.Adam(resnet_model.parameters(), lr=0.001)\n"
      ],
      "metadata": {
        "id": "0noWv3vAe7zE"
      },
      "execution_count": 7,
      "outputs": []
    },
    {
      "cell_type": "markdown",
      "source": [
        "On entraîne ici notre modèle ResNet-18 pendant 10 époques, en suivant la même logique que pour le CNN :\n",
        "\n",
        "- À chaque époque :\n",
        "  - On entraîne le modèle sur l’ensemble d'entraînement (fonction `train()`).\n",
        "  - On évalue la précision sur les ensembles d'entraînement et de test.\n",
        "  - Les deux valeurs sont stockées dans des listes pour pouvoir tracer les courbes ultérieurement.\n",
        "  - Un résumé est affiché avec la perte moyenne et les deux scores de précision.\n",
        "\n",
        "Les résultats obtenus pourront être comparés directement à ceux du CNN, afin d’évaluer l’impact des blocs résiduels sur la performance et la capacité de généralisation.\n"
      ],
      "metadata": {
        "id": "EpFXdzDVkltr"
      }
    },
    {
      "cell_type": "code",
      "source": [
        "resnet_train_acc = []\n",
        "resnet_test_acc = []\n",
        "\n",
        "for epoch in range(10):\n",
        "    loss = train(resnet_model, trainloader, optimizer, criterion)\n",
        "    train_acc = evaluate(resnet_model, trainloader)\n",
        "    test_acc = evaluate(resnet_model, testloader)\n",
        "\n",
        "    resnet_train_acc.append(train_acc)\n",
        "    resnet_test_acc.append(test_acc)\n",
        "\n",
        "    print(f\"[ResNet] Epoch {epoch+1}: Loss = {loss:.4f} | Train Acc = {train_acc:.4f} | Test Acc = {test_acc:.4f}\")\n"
      ],
      "metadata": {
        "colab": {
          "base_uri": "https://localhost:8080/"
        },
        "id": "cDBIpxmce91Q",
        "outputId": "466582b4-2e66-451c-f6bd-6340619b0db1"
      },
      "execution_count": 8,
      "outputs": [
        {
          "output_type": "stream",
          "name": "stdout",
          "text": [
            "[ResNet] Epoch 1: Loss = 1.1882 | Train Acc = 0.7188 | Test Acc = 0.6951\n",
            "[ResNet] Epoch 2: Loss = 0.7152 | Train Acc = 0.8014 | Test Acc = 0.7586\n",
            "[ResNet] Epoch 3: Loss = 0.5333 | Train Acc = 0.8051 | Test Acc = 0.7664\n",
            "[ResNet] Epoch 4: Loss = 0.4107 | Train Acc = 0.8933 | Test Acc = 0.8127\n",
            "[ResNet] Epoch 5: Loss = 0.3104 | Train Acc = 0.8985 | Test Acc = 0.8007\n",
            "[ResNet] Epoch 6: Loss = 0.2221 | Train Acc = 0.9205 | Test Acc = 0.8071\n",
            "[ResNet] Epoch 7: Loss = 0.1735 | Train Acc = 0.9524 | Test Acc = 0.8207\n",
            "[ResNet] Epoch 8: Loss = 0.1192 | Train Acc = 0.9747 | Test Acc = 0.8387\n",
            "[ResNet] Epoch 9: Loss = 0.0935 | Train Acc = 0.9739 | Test Acc = 0.8328\n",
            "[ResNet] Epoch 10: Loss = 0.0763 | Train Acc = 0.9847 | Test Acc = 0.8426\n"
          ]
        }
      ]
    },
    {
      "cell_type": "code",
      "source": [
        "plt.plot(train_acc_list, label='CNN Train')\n",
        "plt.plot(test_acc_list, label='CNN Test')\n",
        "plt.plot(resnet_train_acc, label='ResNet Train')\n",
        "plt.plot(resnet_test_acc, label='ResNet Test')\n",
        "plt.xlabel('Epoch')\n",
        "plt.ylabel('Accuracy')\n",
        "plt.title('CNN vs ResNet-18 on CIFAR-10')\n",
        "plt.legend()\n",
        "plt.grid(True)\n",
        "plt.show()\n"
      ],
      "metadata": {
        "colab": {
          "base_uri": "https://localhost:8080/",
          "height": 472
        },
        "id": "eTLrvE6afArM",
        "outputId": "769146fe-a12d-4660-8884-c3d3fd570e08"
      },
      "execution_count": null,
      "outputs": [
        {
          "output_type": "display_data",
          "data": {
            "text/plain": [
              "<Figure size 640x480 with 1 Axes>"
            ],
            "image/png": "[encoded data removed]"
          },
          "metadata": {}
        }
      ]
    }
  ]
}